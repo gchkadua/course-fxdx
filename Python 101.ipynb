{
 "cells": [
  {
   "cell_type": "markdown",
   "metadata": {},
   "source": [
    "# პითონი როგორც კალკულატორი და მათემატიკური ოპერაციები"
   ]
  },
  {
   "cell_type": "code",
   "execution_count": null,
   "metadata": {},
   "outputs": [],
   "source": [
    "#კომენტარი"
   ]
  },
  {
   "cell_type": "code",
   "execution_count": null,
   "metadata": {},
   "outputs": [],
   "source": [
    "1+1"
   ]
  },
  {
   "cell_type": "code",
   "execution_count": null,
   "metadata": {},
   "outputs": [],
   "source": [
    "5-3"
   ]
  },
  {
   "cell_type": "code",
   "execution_count": null,
   "metadata": {},
   "outputs": [],
   "source": [
    "12/5"
   ]
  },
  {
   "cell_type": "code",
   "execution_count": null,
   "metadata": {},
   "outputs": [],
   "source": [
    "12//5"
   ]
  },
  {
   "cell_type": "code",
   "execution_count": null,
   "metadata": {},
   "outputs": [],
   "source": [
    "12%5"
   ]
  },
  {
   "cell_type": "code",
   "execution_count": null,
   "metadata": {},
   "outputs": [],
   "source": [
    "(17-3)/5"
   ]
  },
  {
   "cell_type": "code",
   "execution_count": null,
   "metadata": {},
   "outputs": [],
   "source": [
    "5==5"
   ]
  },
  {
   "cell_type": "code",
   "execution_count": null,
   "metadata": {},
   "outputs": [],
   "source": [
    "2==5"
   ]
  },
  {
   "cell_type": "code",
   "execution_count": null,
   "metadata": {},
   "outputs": [],
   "source": [
    "5>2"
   ]
  },
  {
   "cell_type": "code",
   "execution_count": null,
   "metadata": {},
   "outputs": [],
   "source": [
    "2>5"
   ]
  },
  {
   "cell_type": "code",
   "execution_count": null,
   "metadata": {},
   "outputs": [],
   "source": [
    "2**3 # ხარისხში აყვანის ოპერაცია"
   ]
  },
  {
   "cell_type": "markdown",
   "metadata": {},
   "source": [
    "## ცვლადები და ცვლადების ტიპები"
   ]
  },
  {
   "cell_type": "markdown",
   "metadata": {},
   "source": [
    "### ყველა მნიშვნელობას პითონში აქვს თავისი ტიპი. რომელიც შეგვიძლია შევამოწმოთ type() ოპერატორით"
   ]
  },
  {
   "cell_type": "code",
   "execution_count": null,
   "metadata": {},
   "outputs": [],
   "source": [
    "type(2)"
   ]
  },
  {
   "cell_type": "code",
   "execution_count": null,
   "metadata": {},
   "outputs": [],
   "source": [
    "type(-2)"
   ]
  },
  {
   "cell_type": "code",
   "execution_count": null,
   "metadata": {
    "scrolled": true
   },
   "outputs": [],
   "source": [
    "type(2.5)"
   ]
  },
  {
   "cell_type": "code",
   "execution_count": null,
   "metadata": {},
   "outputs": [],
   "source": [
    "type(1+2j)"
   ]
  },
  {
   "cell_type": "code",
   "execution_count": null,
   "metadata": {
    "scrolled": true
   },
   "outputs": [],
   "source": [
    "type(True)"
   ]
  },
  {
   "cell_type": "code",
   "execution_count": null,
   "metadata": {},
   "outputs": [],
   "source": [
    "type(False)"
   ]
  },
  {
   "cell_type": "code",
   "execution_count": null,
   "metadata": {},
   "outputs": [],
   "source": [
    "type('text')"
   ]
  },
  {
   "cell_type": "markdown",
   "metadata": {},
   "source": [
    "### პითონში ცვლადი არის მეხსიერებაში გამოყოფილი ადგილი, რომელიც ინახავს მნიშვნელობას. ცვლადს აქვს სახელი და მნიშვნელობა"
   ]
  },
  {
   "cell_type": "code",
   "execution_count": null,
   "metadata": {},
   "outputs": [],
   "source": [
    "cvladis_saxeli = 'mnishvneloba' # მინიჭება"
   ]
  },
  {
   "cell_type": "code",
   "execution_count": null,
   "metadata": {},
   "outputs": [],
   "source": [
    "type(cvladis_saxeli)"
   ]
  },
  {
   "cell_type": "code",
   "execution_count": null,
   "metadata": {
    "scrolled": true
   },
   "outputs": [],
   "source": [
    "print(cvladis_saxeli)"
   ]
  },
  {
   "cell_type": "code",
   "execution_count": null,
   "metadata": {},
   "outputs": [],
   "source": [
    "a = 2\n",
    "b = 5.2"
   ]
  },
  {
   "cell_type": "code",
   "execution_count": null,
   "metadata": {},
   "outputs": [],
   "source": [
    "a+b"
   ]
  },
  {
   "cell_type": "code",
   "execution_count": null,
   "metadata": {},
   "outputs": [],
   "source": [
    "c = a + b"
   ]
  },
  {
   "cell_type": "code",
   "execution_count": null,
   "metadata": {},
   "outputs": [],
   "source": [
    "c"
   ]
  },
  {
   "cell_type": "code",
   "execution_count": null,
   "metadata": {},
   "outputs": [],
   "source": [
    "type(c)"
   ]
  },
  {
   "cell_type": "code",
   "execution_count": null,
   "metadata": {},
   "outputs": [],
   "source": [
    "cvladis_saxeli * 2"
   ]
  },
  {
   "cell_type": "code",
   "execution_count": null,
   "metadata": {},
   "outputs": [],
   "source": [
    "a = 5\n",
    "b = a\n",
    "b = 2\n",
    "print(a)\n",
    "print(b)"
   ]
  },
  {
   "cell_type": "code",
   "execution_count": null,
   "metadata": {},
   "outputs": [],
   "source": [
    "a = 5\n",
    "b = 3\n",
    "# დაწერეთ კოდი რომელიც გაუცვლის a-ს და b-ს მნიშვნელობებს\n",
    "print(a,b)"
   ]
  },
  {
   "cell_type": "markdown",
   "metadata": {},
   "source": [
    "## პირობითი ბლოკები, if elif else"
   ]
  },
  {
   "cell_type": "markdown",
   "metadata": {},
   "source": [
    "### პირობითი ბლოკები არის პითონის სინტაქსური ნაწილი, რომელიც პროგრამის შესრულებისას აძლევს  საშუალებას პროგრამას აირჩიოს შესასრულებლად ის კოდი რომელიც პროგრამის დამწერმა მიუთითა და არა ყველაფერი."
   ]
  },
  {
   "cell_type": "markdown",
   "metadata": {},
   "source": [
    "### ზოგადი სინტაქსი:"
   ]
  },
  {
   "cell_type": "code",
   "execution_count": null,
   "metadata": {},
   "outputs": [],
   "source": [
    "if piroba_1: # თუ piroba_1 ჭეშმარიტია, შესრულდება kodi_1\n",
    "    kodi_1\n",
    "elif piroba_2: # თუ piroba_2 ჭეშმარიტია, შესრულდება kodi_2\n",
    "    kodi_2\n",
    "...\n",
    "elif piroba_N # თუ piroba_N ჭეშმარიტია, შესრულდება kodi_N\n",
    "    kodi_N\n",
    "else: # კოდი შესრულდება მხოლოდ იმ შემთხვევაში, თუ არ დაკმაყოფილდა ზედა არც ერთი პირობა.\n",
    "    kodi_yvela_sxva_shemtxvevistvis"
   ]
  },
  {
   "cell_type": "code",
   "execution_count": null,
   "metadata": {},
   "outputs": [],
   "source": [
    "if 2==2:\n",
    "    print('პირობა ჭეშმარიტია')"
   ]
  },
  {
   "cell_type": "code",
   "execution_count": null,
   "metadata": {},
   "outputs": [],
   "source": [
    "2==2"
   ]
  },
  {
   "cell_type": "code",
   "execution_count": null,
   "metadata": {},
   "outputs": [],
   "source": [
    "if 5==2:\n",
    "    print('პირობა ჭეშმარიტია')"
   ]
  },
  {
   "cell_type": "code",
   "execution_count": null,
   "metadata": {},
   "outputs": [],
   "source": [
    "5==2"
   ]
  },
  {
   "cell_type": "code",
   "execution_count": null,
   "metadata": {},
   "outputs": [],
   "source": [
    "a = 4\n",
    "if a%2 == 0:\n",
    "    print(a, 'ლუწია')\n",
    "elif a%2 != 0:\n",
    "    print(a, 'კენტია')"
   ]
  },
  {
   "cell_type": "code",
   "execution_count": null,
   "metadata": {},
   "outputs": [],
   "source": [
    "a = 5\n",
    "if a%2 == 0:\n",
    "    print(a, 'ლუწია')\n",
    "else:\n",
    "    print(a, 'კენტია')"
   ]
  },
  {
   "cell_type": "code",
   "execution_count": null,
   "metadata": {},
   "outputs": [],
   "source": [
    "a = input()\n",
    "print(type(a))"
   ]
  },
  {
   "cell_type": "code",
   "execution_count": null,
   "metadata": {},
   "outputs": [],
   "source": [
    "a = int(a)\n",
    "if a%2 == 0:\n",
    "    print(a, 'ლუწია')\n",
    "else:\n",
    "    print(a, 'კენტია')"
   ]
  },
  {
   "cell_type": "code",
   "execution_count": null,
   "metadata": {},
   "outputs": [],
   "source": [
    "a = 7\n",
    "if a%2 == 0:\n",
    "    print(a, 'იყოფა 2-ზე')\n",
    "elif a%3 == 0:\n",
    "    print(a, 'იყოფა 3-ზე')\n",
    "elif a%4 == 0:\n",
    "    print(a, 'იყოფა 4-ზე')\n",
    "else:\n",
    "    print(a, 'არ იყოფა 2-ზე, 3-სა და 4-ზე')"
   ]
  },
  {
   "cell_type": "markdown",
   "metadata": {},
   "source": [
    "### ზედა კოდი, შეგვიძლია ჩავწეროთ ასე:"
   ]
  },
  {
   "cell_type": "code",
   "execution_count": null,
   "metadata": {},
   "outputs": [],
   "source": [
    "a = 7\n",
    "if a%2 == 0:\n",
    "    print(a, 'იყოფა 2-ზე')\n",
    "if a%3 == 0:\n",
    "    print(a, 'იყოფა 3-ზე')\n",
    "if a%4 == 0:\n",
    "    print(a, 'იყოფა 4-ზე')\n",
    "else:\n",
    "    print(a, 'არ იყოფა 2-ზე, 3-სა და 4-ზე')"
   ]
  },
  {
   "cell_type": "markdown",
   "metadata": {},
   "source": [
    "### როგორც ვხედავთ, შედეგი იდენტურია, მაგრამ არის თუ არა ლოგიკა იდენტური?\n",
    "### განვიხილოთ ორი მარტივი შემთხვევა"
   ]
  },
  {
   "cell_type": "code",
   "execution_count": null,
   "metadata": {},
   "outputs": [],
   "source": [
    "a = 6\n",
    "if a%2 == 0:\n",
    "    print(a, 'იყოფა 2-ზე')\n",
    "elif a%3 == 0:\n",
    "    print(a, 'იყოფა 3-ზე')"
   ]
  },
  {
   "cell_type": "code",
   "execution_count": null,
   "metadata": {},
   "outputs": [],
   "source": [
    "a = 6\n",
    "if a%2 == 0:\n",
    "    print(a, 'იყოფა 2-ზე')\n",
    "if a%3 == 0:\n",
    "    print(a, 'იყოფა 3-ზე')\n"
   ]
  },
  {
   "cell_type": "markdown",
   "metadata": {},
   "source": [
    "### ლოგიკური ოპერატორები: and, or"
   ]
  },
  {
   "cell_type": "markdown",
   "metadata": {},
   "source": [
    "#### and არის 'ლოგიკური და', იგი აბრუნებს  True-ს მხოლოდ იმ შემთხვევაში თუ ორი პირობიდან ორივე ჭეშმარიტია"
   ]
  },
  {
   "cell_type": "code",
   "execution_count": null,
   "metadata": {},
   "outputs": [],
   "source": [
    "True and True"
   ]
  },
  {
   "cell_type": "code",
   "execution_count": null,
   "metadata": {},
   "outputs": [],
   "source": [
    "2==2 and 5==5"
   ]
  },
  {
   "cell_type": "code",
   "execution_count": null,
   "metadata": {},
   "outputs": [],
   "source": [
    "True and False"
   ]
  },
  {
   "cell_type": "code",
   "execution_count": null,
   "metadata": {},
   "outputs": [],
   "source": [
    "2==5 and 5==5"
   ]
  },
  {
   "cell_type": "markdown",
   "metadata": {},
   "source": [
    "#### or არის 'ლოგიკური ან', იგი აბრუნებს  True-ს მხოლოდ იმ შემთხვევაში თუ ორი პირობიდან ერთი მაინც ჭეშმარიტია"
   ]
  },
  {
   "cell_type": "code",
   "execution_count": null,
   "metadata": {},
   "outputs": [],
   "source": [
    "True or True"
   ]
  },
  {
   "cell_type": "code",
   "execution_count": null,
   "metadata": {},
   "outputs": [],
   "source": [
    "2==2 or 5==5"
   ]
  },
  {
   "cell_type": "code",
   "execution_count": null,
   "metadata": {},
   "outputs": [],
   "source": [
    "True or False"
   ]
  },
  {
   "cell_type": "code",
   "execution_count": null,
   "metadata": {},
   "outputs": [],
   "source": [
    "2==2 or 5==2"
   ]
  },
  {
   "cell_type": "code",
   "execution_count": null,
   "metadata": {},
   "outputs": [],
   "source": [
    "2==5 or 5==2"
   ]
  },
  {
   "cell_type": "code",
   "execution_count": null,
   "metadata": {},
   "outputs": [],
   "source": [
    "False or False"
   ]
  },
  {
   "cell_type": "markdown",
   "metadata": {},
   "source": [
    "### ამ ცოდნის გათვალისწინებით, ჩვენი ლოგიკური ბლოკების შეგვიძლია ჩავწეროთ უფრო რთული და რამდენიმე ქვეპირობისგან შექმნილი პირობა:"
   ]
  },
  {
   "cell_type": "code",
   "execution_count": null,
   "metadata": {},
   "outputs": [],
   "source": [
    "a = 6\n",
    "if a%2 == 0 and a%3 == 0:\n",
    "    print(a,'იყოფა ორზეც და სამზეც')\n",
    "else:\n",
    "    print(a,'არ იყოფა ორზე, ან სამზე')"
   ]
  },
  {
   "cell_type": "markdown",
   "metadata": {},
   "source": [
    "## კოლექციები (list, tuple, dictionaries)"
   ]
  },
  {
   "cell_type": "code",
   "execution_count": null,
   "metadata": {},
   "outputs": [],
   "source": [
    "lst = []"
   ]
  },
  {
   "cell_type": "code",
   "execution_count": null,
   "metadata": {},
   "outputs": [],
   "source": [
    "lst.append(1) # არსებული ლისტის ბოლოში ჩასვამს გადაცემულ მნიშვნელობას"
   ]
  },
  {
   "cell_type": "code",
   "execution_count": null,
   "metadata": {},
   "outputs": [],
   "source": [
    "lst"
   ]
  },
  {
   "cell_type": "code",
   "execution_count": null,
   "metadata": {},
   "outputs": [],
   "source": [
    "lst.append(2)"
   ]
  },
  {
   "cell_type": "code",
   "execution_count": null,
   "metadata": {},
   "outputs": [],
   "source": [
    "lst"
   ]
  },
  {
   "cell_type": "code",
   "execution_count": null,
   "metadata": {},
   "outputs": [],
   "source": [
    "lst.insert(1,13) #გადაეცემა ინდექსი და მნიშვნელობა, შესაბამის ინდექსში ჩასვამს მნიშნველობას"
   ]
  },
  {
   "cell_type": "code",
   "execution_count": null,
   "metadata": {},
   "outputs": [],
   "source": [
    "lst"
   ]
  },
  {
   "cell_type": "code",
   "execution_count": null,
   "metadata": {},
   "outputs": [],
   "source": [
    "lst.remove(12) # გადაეცემა მნიშვნელობა და შლის ლისტიდან."
   ]
  },
  {
   "cell_type": "code",
   "execution_count": null,
   "metadata": {},
   "outputs": [],
   "source": [
    "lst"
   ]
  },
  {
   "cell_type": "code",
   "execution_count": null,
   "metadata": {},
   "outputs": [],
   "source": [
    "lst.pop(0) # გადაეცემა ინდექსი და შლის შესაბამის მნიშვნელობას ლისტიდან."
   ]
  },
  {
   "cell_type": "code",
   "execution_count": null,
   "metadata": {},
   "outputs": [],
   "source": [
    "lst"
   ]
  },
  {
   "cell_type": "code",
   "execution_count": null,
   "metadata": {},
   "outputs": [],
   "source": [
    "lst.clear() #აცარიელებს ლისტს."
   ]
  },
  {
   "cell_type": "code",
   "execution_count": null,
   "metadata": {},
   "outputs": [],
   "source": [
    "lst"
   ]
  },
  {
   "cell_type": "code",
   "execution_count": null,
   "metadata": {},
   "outputs": [],
   "source": [
    "lst.append(1)\n",
    "lst.append(113)\n",
    "lst.append(13)"
   ]
  },
  {
   "cell_type": "code",
   "execution_count": null,
   "metadata": {},
   "outputs": [],
   "source": [
    "lst"
   ]
  },
  {
   "cell_type": "code",
   "execution_count": null,
   "metadata": {},
   "outputs": [],
   "source": [
    "lst.index(1) # გვიბრუნებს ინდექსის შესაბამის მნიშვნელობას"
   ]
  },
  {
   "cell_type": "code",
   "execution_count": null,
   "metadata": {},
   "outputs": [],
   "source": [
    "lst.count(5) # გადაეცემა მნიშვნელობა და გვიჩვენებს რამდენჯერ გვხდება ეს მნიშვნელობა ლისტში"
   ]
  },
  {
   "cell_type": "code",
   "execution_count": null,
   "metadata": {},
   "outputs": [],
   "source": [
    "lst.sort() # ლისტის მნიშვნელობას ალაგებს ზრდადობით"
   ]
  },
  {
   "cell_type": "code",
   "execution_count": null,
   "metadata": {},
   "outputs": [],
   "source": [
    "lst"
   ]
  },
  {
   "cell_type": "code",
   "execution_count": null,
   "metadata": {},
   "outputs": [],
   "source": [
    "lst.reverse() #ლისტს უცვლის მიმდევრობას და ალაგებს რევერსულად."
   ]
  },
  {
   "cell_type": "code",
   "execution_count": null,
   "metadata": {},
   "outputs": [],
   "source": [
    "lst"
   ]
  }
 ],
 "metadata": {
  "kernelspec": {
   "display_name": "Python 3",
   "language": "python",
   "name": "python3"
  },
  "language_info": {
   "codemirror_mode": {
    "name": "ipython",
    "version": 3
   },
   "file_extension": ".py",
   "mimetype": "text/x-python",
   "name": "python",
   "nbconvert_exporter": "python",
   "pygments_lexer": "ipython3",
   "version": "3.7.6"
  }
 },
 "nbformat": 4,
 "nbformat_minor": 4
}
