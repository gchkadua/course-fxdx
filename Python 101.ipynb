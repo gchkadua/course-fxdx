{
 "cells": [
  {
   "cell_type": "markdown",
   "metadata": {},
   "source": [
    "# პითონი როგორც კალკულატორი და მათემატიკური ოპერაციები"
   ]
  },
  {
   "cell_type": "code",
   "execution_count": null,
   "metadata": {},
   "outputs": [],
   "source": [
    "#კომენტარი"
   ]
  },
  {
   "cell_type": "code",
   "execution_count": null,
   "metadata": {},
   "outputs": [],
   "source": [
    "1+1"
   ]
  },
  {
   "cell_type": "code",
   "execution_count": null,
   "metadata": {},
   "outputs": [],
   "source": [
    "5-3"
   ]
  },
  {
   "cell_type": "code",
   "execution_count": null,
   "metadata": {},
   "outputs": [],
   "source": [
    "12/5"
   ]
  },
  {
   "cell_type": "code",
   "execution_count": null,
   "metadata": {},
   "outputs": [],
   "source": [
    "12//5"
   ]
  },
  {
   "cell_type": "code",
   "execution_count": null,
   "metadata": {},
   "outputs": [],
   "source": [
    "12%5"
   ]
  },
  {
   "cell_type": "code",
   "execution_count": null,
   "metadata": {},
   "outputs": [],
   "source": [
    "(17-3)/5"
   ]
  },
  {
   "cell_type": "code",
   "execution_count": null,
   "metadata": {},
   "outputs": [],
   "source": [
    "5==5"
   ]
  },
  {
   "cell_type": "code",
   "execution_count": null,
   "metadata": {},
   "outputs": [],
   "source": [
    "2==5"
   ]
  },
  {
   "cell_type": "code",
   "execution_count": null,
   "metadata": {},
   "outputs": [],
   "source": [
    "5>2"
   ]
  },
  {
   "cell_type": "code",
   "execution_count": null,
   "metadata": {},
   "outputs": [],
   "source": [
    "2>5"
   ]
  },
  {
   "cell_type": "code",
   "execution_count": null,
   "metadata": {},
   "outputs": [],
   "source": [
    "2**3 # ხარისხში აყვანის ოპერაცია"
   ]
  },
  {
   "cell_type": "markdown",
   "metadata": {},
   "source": [
    "## ცვლადები და ცვლადების ტიპები"
   ]
  },
  {
   "cell_type": "markdown",
   "metadata": {},
   "source": [
    "### ყველა მნიშვნელობას პითონში აქვს თავისი ტიპი. რომელიც შეგვიძლია შევამოწმოთ type() ოპერატორით"
   ]
  },
  {
   "cell_type": "code",
   "execution_count": null,
   "metadata": {},
   "outputs": [],
   "source": [
    "type(2)"
   ]
  },
  {
   "cell_type": "code",
   "execution_count": null,
   "metadata": {},
   "outputs": [],
   "source": [
    "type(-2)"
   ]
  },
  {
   "cell_type": "code",
   "execution_count": null,
   "metadata": {
    "scrolled": true
   },
   "outputs": [],
   "source": [
    "type(2.5)"
   ]
  },
  {
   "cell_type": "code",
   "execution_count": null,
   "metadata": {},
   "outputs": [],
   "source": [
    "type(1+2j)"
   ]
  },
  {
   "cell_type": "code",
   "execution_count": null,
   "metadata": {
    "scrolled": true
   },
   "outputs": [],
   "source": [
    "type(True)"
   ]
  },
  {
   "cell_type": "code",
   "execution_count": null,
   "metadata": {},
   "outputs": [],
   "source": [
    "type(False)"
   ]
  },
  {
   "cell_type": "code",
   "execution_count": null,
   "metadata": {},
   "outputs": [],
   "source": [
    "type('text')"
   ]
  },
  {
   "cell_type": "markdown",
   "metadata": {},
   "source": [
    "### პითონში ცვლადი არის მეხსიერებაში გამოყოფილი ადგილი, რომელიც ინახავს მნიშვნელობას. ცვლადს აქვს სახელი და მნიშვნელობა"
   ]
  },
  {
   "cell_type": "code",
   "execution_count": null,
   "metadata": {},
   "outputs": [],
   "source": [
    "cvladis_saxeli = 'mnishvneloba' # მინიჭება"
   ]
  },
  {
   "cell_type": "code",
   "execution_count": null,
   "metadata": {},
   "outputs": [],
   "source": [
    "type(cvladis_saxeli)"
   ]
  },
  {
   "cell_type": "code",
   "execution_count": null,
   "metadata": {
    "scrolled": true
   },
   "outputs": [],
   "source": [
    "print(cvladis_saxeli)"
   ]
  },
  {
   "cell_type": "code",
   "execution_count": null,
   "metadata": {},
   "outputs": [],
   "source": [
    "a = 2\n",
    "b = 5.2"
   ]
  },
  {
   "cell_type": "code",
   "execution_count": null,
   "metadata": {},
   "outputs": [],
   "source": [
    "a+b"
   ]
  },
  {
   "cell_type": "code",
   "execution_count": null,
   "metadata": {},
   "outputs": [],
   "source": [
    "c = a + b"
   ]
  },
  {
   "cell_type": "code",
   "execution_count": null,
   "metadata": {},
   "outputs": [],
   "source": [
    "c"
   ]
  },
  {
   "cell_type": "code",
   "execution_count": null,
   "metadata": {},
   "outputs": [],
   "source": [
    "type(c)"
   ]
  },
  {
   "cell_type": "code",
   "execution_count": null,
   "metadata": {},
   "outputs": [],
   "source": [
    "cvladis_saxeli * 2"
   ]
  },
  {
   "cell_type": "code",
   "execution_count": null,
   "metadata": {},
   "outputs": [],
   "source": [
    "a = 5\n",
    "b = a\n",
    "b = 2\n",
    "print(a)\n",
    "print(b)"
   ]
  },
  {
   "cell_type": "code",
   "execution_count": null,
   "metadata": {},
   "outputs": [],
   "source": [
    "a = 5\n",
    "b = 3\n",
    "# დაწერეთ კოდი რომელიც გაუცვლის a-ს და b-ს მნიშვნელობებს\n",
    "print(a,b)"
   ]
  },
  {
   "cell_type": "markdown",
   "metadata": {},
   "source": [
    "## პირობითი ბლოკები, if elif else"
   ]
  },
  {
   "cell_type": "markdown",
   "metadata": {},
   "source": [
    "### პირობითი ბლოკები არის პითონის სინტაქსური ნაწილი, რომელიც პროგრამის შესრულებისას აძლევს  საშუალებას პროგრამას აირჩიოს შესასრულებლად ის კოდი რომელიც პროგრამის დამწერმა მიუთითა და არა ყველაფერი."
   ]
  },
  {
   "cell_type": "markdown",
   "metadata": {},
   "source": [
    "### ზოგადი სინტაქსი:"
   ]
  },
  {
   "cell_type": "code",
   "execution_count": null,
   "metadata": {},
   "outputs": [],
   "source": [
    "if piroba_1: # თუ piroba_1 ჭეშმარიტია, შესრულდება kodi_1\n",
    "    kodi_1\n",
    "elif piroba_2: # თუ piroba_2 ჭეშმარიტია, შესრულდება kodi_2\n",
    "    kodi_2\n",
    "...\n",
    "elif piroba_N # თუ piroba_N ჭეშმარიტია, შესრულდება kodi_N\n",
    "    kodi_N\n",
    "else: # კოდი შესრულდება მხოლოდ იმ შემთხვევაში, თუ არ დაკმაყოფილდა ზედა არც ერთი პირობა.\n",
    "    kodi_yvela_sxva_shemtxvevistvis"
   ]
  },
  {
   "cell_type": "code",
   "execution_count": null,
   "metadata": {},
   "outputs": [],
   "source": [
    "if 2==2:\n",
    "    print('პირობა ჭეშმარიტია')"
   ]
  },
  {
   "cell_type": "code",
   "execution_count": null,
   "metadata": {},
   "outputs": [],
   "source": [
    "2==2"
   ]
  },
  {
   "cell_type": "code",
   "execution_count": null,
   "metadata": {},
   "outputs": [],
   "source": [
    "if 5==2:\n",
    "    print('პირობა ჭეშმარიტია')"
   ]
  },
  {
   "cell_type": "code",
   "execution_count": null,
   "metadata": {},
   "outputs": [],
   "source": [
    "5==2"
   ]
  },
  {
   "cell_type": "code",
   "execution_count": null,
   "metadata": {},
   "outputs": [],
   "source": [
    "a = 4\n",
    "if a%2 == 0:\n",
    "    print(a, 'ლუწია')\n",
    "elif a%2 != 0:\n",
    "    print(a, 'კენტია')"
   ]
  },
  {
   "cell_type": "code",
   "execution_count": null,
   "metadata": {},
   "outputs": [],
   "source": [
    "a = 5\n",
    "if a%2 == 0:\n",
    "    print(a, 'ლუწია')\n",
    "else:\n",
    "    print(a, 'კენტია')"
   ]
  },
  {
   "cell_type": "code",
   "execution_count": null,
   "metadata": {},
   "outputs": [],
   "source": [
    "a = input()\n",
    "print(type(a))"
   ]
  },
  {
   "cell_type": "code",
   "execution_count": null,
   "metadata": {},
   "outputs": [],
   "source": [
    "a = int(a)\n",
    "if a%2 == 0:\n",
    "    print(a, 'ლუწია')\n",
    "else:\n",
    "    print(a, 'კენტია')"
   ]
  },
  {
   "cell_type": "code",
   "execution_count": null,
   "metadata": {},
   "outputs": [],
   "source": [
    "a = 7\n",
    "if a%2 == 0:\n",
    "    print(a, 'იყოფა 2-ზე')\n",
    "elif a%3 == 0:\n",
    "    print(a, 'იყოფა 3-ზე')\n",
    "elif a%4 == 0:\n",
    "    print(a, 'იყოფა 4-ზე')\n",
    "else:\n",
    "    print(a, 'არ იყოფა 2-ზე, 3-სა და 4-ზე')"
   ]
  },
  {
   "cell_type": "markdown",
   "metadata": {},
   "source": [
    "### ზედა კოდი, შეგვიძლია ჩავწეროთ ასე:"
   ]
  },
  {
   "cell_type": "code",
   "execution_count": null,
   "metadata": {},
   "outputs": [],
   "source": [
    "a = 7\n",
    "if a%2 == 0:\n",
    "    print(a, 'იყოფა 2-ზე')\n",
    "if a%3 == 0:\n",
    "    print(a, 'იყოფა 3-ზე')\n",
    "if a%4 == 0:\n",
    "    print(a, 'იყოფა 4-ზე')\n",
    "else:\n",
    "    print(a, 'არ იყოფა 2-ზე, 3-სა და 4-ზე')"
   ]
  },
  {
   "cell_type": "markdown",
   "metadata": {},
   "source": [
    "### როგორც ვხედავთ, შედეგი იდენტურია, მაგრამ არის თუ არა ლოგიკა იდენტური?\n",
    "### განვიხილოთ ორი მარტივი შემთხვევა"
   ]
  },
  {
   "cell_type": "code",
   "execution_count": null,
   "metadata": {},
   "outputs": [],
   "source": [
    "a = 6\n",
    "if a%2 == 0:\n",
    "    print(a, 'იყოფა 2-ზე')\n",
    "elif a%3 == 0:\n",
    "    print(a, 'იყოფა 3-ზე')"
   ]
  },
  {
   "cell_type": "code",
   "execution_count": null,
   "metadata": {},
   "outputs": [],
   "source": [
    "a = 6\n",
    "if a%2 == 0:\n",
    "    print(a, 'იყოფა 2-ზე')\n",
    "if a%3 == 0:\n",
    "    print(a, 'იყოფა 3-ზე')\n"
   ]
  },
  {
   "cell_type": "markdown",
   "metadata": {},
   "source": [
    "### ლოგიკური ოპერატორები: and, or"
   ]
  },
  {
   "cell_type": "markdown",
   "metadata": {},
   "source": [
    "#### and არის 'ლოგიკური და', იგი აბრუნებს  True-ს მხოლოდ იმ შემთხვევაში თუ ორი პირობიდან ორივე ჭეშმარიტია"
   ]
  },
  {
   "cell_type": "code",
   "execution_count": null,
   "metadata": {},
   "outputs": [],
   "source": [
    "True and True"
   ]
  },
  {
   "cell_type": "code",
   "execution_count": null,
   "metadata": {},
   "outputs": [],
   "source": [
    "2==2 and 5==5"
   ]
  },
  {
   "cell_type": "code",
   "execution_count": null,
   "metadata": {},
   "outputs": [],
   "source": [
    "True and False"
   ]
  },
  {
   "cell_type": "code",
   "execution_count": null,
   "metadata": {},
   "outputs": [],
   "source": [
    "2==5 and 5==5"
   ]
  },
  {
   "cell_type": "markdown",
   "metadata": {},
   "source": [
    "#### or არის 'ლოგიკური ან', იგი აბრუნებს  True-ს მხოლოდ იმ შემთხვევაში თუ ორი პირობიდან ერთი მაინც ჭეშმარიტია"
   ]
  },
  {
   "cell_type": "code",
   "execution_count": null,
   "metadata": {},
   "outputs": [],
   "source": [
    "True or True"
   ]
  },
  {
   "cell_type": "code",
   "execution_count": null,
   "metadata": {},
   "outputs": [],
   "source": [
    "2==2 or 5==5"
   ]
  },
  {
   "cell_type": "code",
   "execution_count": null,
   "metadata": {},
   "outputs": [],
   "source": [
    "True or False"
   ]
  },
  {
   "cell_type": "code",
   "execution_count": null,
   "metadata": {},
   "outputs": [],
   "source": [
    "2==2 or 5==2"
   ]
  },
  {
   "cell_type": "code",
   "execution_count": null,
   "metadata": {},
   "outputs": [],
   "source": [
    "2==5 or 5==2"
   ]
  },
  {
   "cell_type": "code",
   "execution_count": null,
   "metadata": {},
   "outputs": [],
   "source": [
    "False or False"
   ]
  },
  {
   "cell_type": "markdown",
   "metadata": {},
   "source": [
    "### ამ ცოდნის გათვალისწინებით, ჩვენი ლოგიკური ბლოკების შეგვიძლია ჩავწეროთ უფრო რთული და რამდენიმე ქვეპირობისგან შექმნილი პირობა:"
   ]
  },
  {
   "cell_type": "code",
   "execution_count": null,
   "metadata": {},
   "outputs": [],
   "source": [
    "a = 6\n",
    "if a%2 == 0 and a%3 == 0:\n",
    "    print(a,'იყოფა ორზეც და სამზეც')\n",
    "else:\n",
    "    print(a,'არ იყოფა ორზე, ან სამზე')"
   ]
  },
  {
   "cell_type": "markdown",
   "metadata": {},
   "source": [
    "## კოლექციები (list, dictionaries)"
   ]
  },
  {
   "cell_type": "markdown",
   "metadata": {},
   "source": [
    "### List - ები გამოიყენება რამდენიმე მნიშვნელობის ერთ ცვლადში შესანახად. list-ები არის ერთ-ერთი პითონში ჩაშენებული 4 კოლექციის ტიპიდან ერთ-ერთი."
   ]
  },
  {
   "cell_type": "code",
   "execution_count": null,
   "metadata": {},
   "outputs": [],
   "source": [
    "lst = []"
   ]
  },
  {
   "cell_type": "code",
   "execution_count": null,
   "metadata": {},
   "outputs": [],
   "source": [
    "lst.append(1) # არსებული ლისტის ბოლოში ჩასვამს გადაცემულ მნიშვნელობას"
   ]
  },
  {
   "cell_type": "code",
   "execution_count": null,
   "metadata": {},
   "outputs": [],
   "source": [
    "lst"
   ]
  },
  {
   "cell_type": "code",
   "execution_count": null,
   "metadata": {},
   "outputs": [],
   "source": [
    "lst.append(2)"
   ]
  },
  {
   "cell_type": "code",
   "execution_count": null,
   "metadata": {},
   "outputs": [],
   "source": [
    "lst"
   ]
  },
  {
   "cell_type": "code",
   "execution_count": null,
   "metadata": {},
   "outputs": [],
   "source": [
    "lst.insert(1,13) #გადაეცემა ინდექსი და მნიშვნელობა, შესაბამის ინდექსში ჩასვამს მნიშნველობას"
   ]
  },
  {
   "cell_type": "code",
   "execution_count": null,
   "metadata": {},
   "outputs": [],
   "source": [
    "lst"
   ]
  },
  {
   "cell_type": "code",
   "execution_count": null,
   "metadata": {},
   "outputs": [],
   "source": [
    "len(lst) # რამდენი ელემენტი გვაქვს ლისტში"
   ]
  },
  {
   "cell_type": "code",
   "execution_count": null,
   "metadata": {},
   "outputs": [],
   "source": [
    "lst.remove(13) # გადაეცემა მნიშვნელობა და შლის ლისტიდან."
   ]
  },
  {
   "cell_type": "code",
   "execution_count": null,
   "metadata": {},
   "outputs": [],
   "source": [
    "lst"
   ]
  },
  {
   "cell_type": "code",
   "execution_count": null,
   "metadata": {},
   "outputs": [],
   "source": [
    "lst.pop(0) # გადაეცემა ინდექსი და შლის შესაბამის მნიშვნელობას ლისტიდან."
   ]
  },
  {
   "cell_type": "code",
   "execution_count": null,
   "metadata": {},
   "outputs": [],
   "source": [
    "lst"
   ]
  },
  {
   "cell_type": "code",
   "execution_count": null,
   "metadata": {},
   "outputs": [],
   "source": [
    "lst.clear() #აცარიელებს ლისტს."
   ]
  },
  {
   "cell_type": "code",
   "execution_count": null,
   "metadata": {},
   "outputs": [],
   "source": [
    "lst"
   ]
  },
  {
   "cell_type": "code",
   "execution_count": null,
   "metadata": {},
   "outputs": [],
   "source": [
    "lst.append(1)\n",
    "lst.append(113)\n",
    "lst.append(13)"
   ]
  },
  {
   "cell_type": "code",
   "execution_count": null,
   "metadata": {},
   "outputs": [],
   "source": [
    "lst"
   ]
  },
  {
   "cell_type": "code",
   "execution_count": null,
   "metadata": {},
   "outputs": [],
   "source": [
    "lst.index(1) # გვიბრუნებს ინდექსის შესაბამის მნიშვნელობას"
   ]
  },
  {
   "cell_type": "code",
   "execution_count": null,
   "metadata": {},
   "outputs": [],
   "source": [
    "lst.count(5) # გადაეცემა მნიშვნელობა და გვიჩვენებს რამდენჯერ გვხდება ეს მნიშვნელობა ლისტში"
   ]
  },
  {
   "cell_type": "code",
   "execution_count": null,
   "metadata": {},
   "outputs": [],
   "source": [
    "lst.sort() # ლისტის მნიშვნელობას ალაგებს ზრდადობით"
   ]
  },
  {
   "cell_type": "code",
   "execution_count": null,
   "metadata": {},
   "outputs": [],
   "source": [
    "lst"
   ]
  },
  {
   "cell_type": "code",
   "execution_count": null,
   "metadata": {},
   "outputs": [],
   "source": [
    "lst.reverse() #ლისტს უცვლის მიმდევრობას და ალაგებს რევერსულად."
   ]
  },
  {
   "cell_type": "code",
   "execution_count": null,
   "metadata": {},
   "outputs": [],
   "source": [
    "lst"
   ]
  },
  {
   "cell_type": "markdown",
   "metadata": {},
   "source": [
    "### list ის ელემენტები, გადანომრილია ინდექსით. პირველი ელემენტის ინდექსია 0, მეორესი 1 და ა.შ. "
   ]
  },
  {
   "cell_type": "code",
   "execution_count": null,
   "metadata": {},
   "outputs": [],
   "source": [
    "lst"
   ]
  },
  {
   "cell_type": "code",
   "execution_count": null,
   "metadata": {},
   "outputs": [],
   "source": [
    "lst[0] # პირველი ელემენტის დაბეჭდვა"
   ]
  },
  {
   "cell_type": "code",
   "execution_count": null,
   "metadata": {},
   "outputs": [],
   "source": [
    "lst[1] # მეორე ელემენტის დაბეჭდვა"
   ]
  },
  {
   "cell_type": "code",
   "execution_count": null,
   "metadata": {},
   "outputs": [],
   "source": [
    "lst[-1] # ბოლო ელემენტის დაბეჭდვა"
   ]
  },
  {
   "cell_type": "code",
   "execution_count": null,
   "metadata": {},
   "outputs": [],
   "source": [
    "lst[-2] # ბოლოს წინა ელემენტის დაბეჭდვა "
   ]
  },
  {
   "cell_type": "code",
   "execution_count": null,
   "metadata": {},
   "outputs": [],
   "source": [
    "lst = [1,2,3,4,5,6,7,8,9]"
   ]
  },
  {
   "cell_type": "code",
   "execution_count": null,
   "metadata": {},
   "outputs": [],
   "source": [
    "lst[0:] # დაგვიბრუნებს ქვეკოლექციას 0-დან ბოლომდე"
   ]
  },
  {
   "cell_type": "code",
   "execution_count": null,
   "metadata": {},
   "outputs": [],
   "source": [
    "lst[1:] # დაგვიბრუნებს ქვეკოლექციას ინდექსით 1-დან ბოლომდე"
   ]
  },
  {
   "cell_type": "code",
   "execution_count": null,
   "metadata": {},
   "outputs": [],
   "source": [
    "lst[-2:] # რას დაბეჭდავს?"
   ]
  },
  {
   "cell_type": "code",
   "execution_count": null,
   "metadata": {},
   "outputs": [],
   "source": [
    "lst[0:4] #  დაგვიბრუნებს მნიშვნელობას ინდექსით 0 1 2 3, ყურადღება მივაქციოთ, რომ პირველი ინდექსი ჩათვლითაა, ხოლო მდე ინდექსი არა"
   ]
  },
  {
   "cell_type": "code",
   "execution_count": null,
   "metadata": {},
   "outputs": [],
   "source": [
    "lst[-4:-2] # რას დაბეჭდავს?"
   ]
  },
  {
   "cell_type": "markdown",
   "metadata": {},
   "source": [
    "### fun fact : string-ებს შეგვიძლია მოვექცეთ როგორც ლისტებს, მაგალითად:"
   ]
  },
  {
   "cell_type": "code",
   "execution_count": null,
   "metadata": {},
   "outputs": [],
   "source": [
    "string = 'giorgi batiashvili'"
   ]
  },
  {
   "cell_type": "code",
   "execution_count": null,
   "metadata": {},
   "outputs": [],
   "source": [
    "string[2:-3]"
   ]
  },
  {
   "cell_type": "markdown",
   "metadata": {},
   "source": [
    "### dictionary - ი გამოიყენება მონაცემების შესანახად გასაღები:მნიშვნელობა წყვილებით"
   ]
  },
  {
   "cell_type": "code",
   "execution_count": null,
   "metadata": {},
   "outputs": [],
   "source": [
    "dictionary = {}"
   ]
  },
  {
   "cell_type": "code",
   "execution_count": null,
   "metadata": {},
   "outputs": [],
   "source": [
    "dictionary['key1'] = 'value 1' # ახალი წყვილის დამატება"
   ]
  },
  {
   "cell_type": "code",
   "execution_count": null,
   "metadata": {},
   "outputs": [],
   "source": [
    "dictionary"
   ]
  },
  {
   "cell_type": "code",
   "execution_count": null,
   "metadata": {},
   "outputs": [],
   "source": [
    "dictionary['key2'] = 'value 2'"
   ]
  },
  {
   "cell_type": "code",
   "execution_count": null,
   "metadata": {},
   "outputs": [],
   "source": [
    "dictionary"
   ]
  },
  {
   "cell_type": "code",
   "execution_count": null,
   "metadata": {},
   "outputs": [],
   "source": [
    "dictionary.update({\"key1\": \"value -1\"}) # რომელიმე ელემენტის ცვლილება"
   ]
  },
  {
   "cell_type": "code",
   "execution_count": null,
   "metadata": {},
   "outputs": [],
   "source": [
    "dictionary"
   ]
  },
  {
   "cell_type": "code",
   "execution_count": null,
   "metadata": {},
   "outputs": [],
   "source": [
    "dictionary.pop(\"key1\")"
   ]
  },
  {
   "cell_type": "code",
   "execution_count": null,
   "metadata": {},
   "outputs": [],
   "source": [
    "dictionary"
   ]
  },
  {
   "cell_type": "code",
   "execution_count": null,
   "metadata": {},
   "outputs": [],
   "source": [
    "dictionary['key1'] = 'value 1'\n",
    "dictionary['key3'] = 'value 3'"
   ]
  },
  {
   "cell_type": "code",
   "execution_count": null,
   "metadata": {},
   "outputs": [],
   "source": [
    "dictionary"
   ]
  },
  {
   "cell_type": "code",
   "execution_count": null,
   "metadata": {},
   "outputs": [],
   "source": [
    "dictionary.get('key3') # გასაღების მიხედვით მნიშვნელობის ამოღება"
   ]
  },
  {
   "cell_type": "code",
   "execution_count": null,
   "metadata": {},
   "outputs": [],
   "source": [
    "dictionary.keys() # რა გასაღებები გვაქვს "
   ]
  },
  {
   "cell_type": "code",
   "execution_count": null,
   "metadata": {},
   "outputs": [],
   "source": [
    "dictionary.values() # რა მნიშვნელობები გვაქვს"
   ]
  },
  {
   "cell_type": "code",
   "execution_count": null,
   "metadata": {},
   "outputs": [],
   "source": [
    "dictionary.clear() # როგორც ლისტში, აქაც ვასუფთავებთ მნიშვნელობებისგან"
   ]
  },
  {
   "cell_type": "code",
   "execution_count": null,
   "metadata": {},
   "outputs": [],
   "source": [
    "dictionary"
   ]
  },
  {
   "cell_type": "markdown",
   "metadata": {},
   "source": [
    "## ციკლები არის სინტაქსის უმნიშვნელოვანესი ნაწილი, რომელიც საშუალებას გვაძლევს განმეორებითი ბრძანებები გავაკეთოთ ზედმეტი კოდის გარეშე. სინტაქსია:"
   ]
  },
  {
   "cell_type": "code",
   "execution_count": null,
   "metadata": {},
   "outputs": [],
   "source": [
    "#for something in somethings:\n",
    "#    do_something"
   ]
  },
  {
   "cell_type": "code",
   "execution_count": null,
   "metadata": {},
   "outputs": [],
   "source": [
    "fruits = ['apple', 'orange', 'pear', 'banana']"
   ]
  },
  {
   "cell_type": "code",
   "execution_count": null,
   "metadata": {},
   "outputs": [],
   "source": [
    "for fruit in fruits:\n",
    "    print(fruit)"
   ]
  },
  {
   "cell_type": "code",
   "execution_count": null,
   "metadata": {},
   "outputs": [],
   "source": [
    "for fruit in fruits:\n",
    "    if fruit == 'apple':\n",
    "        print('I love apples')\n",
    "    else:\n",
    "        print(fruit)"
   ]
  },
  {
   "cell_type": "code",
   "execution_count": null,
   "metadata": {},
   "outputs": [],
   "source": [
    "for index, fruit in enumerate(fruits):\n",
    "    print(index, fruit)"
   ]
  },
  {
   "cell_type": "code",
   "execution_count": null,
   "metadata": {},
   "outputs": [],
   "source": [
    "for i in range(10):\n",
    "    print(i*2)"
   ]
  },
  {
   "cell_type": "markdown",
   "metadata": {},
   "source": [
    "### განვიხილოთ, მარტივი ამოცანა, შევიყვანოთ რიცხვი და 0-დან ჩვენს რიცხვამდე დავბეჭდოთ ყველა კენტი რიცხვი"
   ]
  },
  {
   "cell_type": "code",
   "execution_count": null,
   "metadata": {},
   "outputs": [],
   "source": [
    "k = int(input())\n",
    "\n",
    "for i in range(k):\n",
    "    if i%2 == 1:\n",
    "        print(i)"
   ]
  },
  {
   "cell_type": "markdown",
   "metadata": {},
   "source": [
    "### განვიხილოთ კიდევ ერთი მარტივი ამოცანა: გვაქვს ლისტი [1,3,12,5,33,12,15] , ლისტი შევცვალოთ ისე, რომ თითოეულ კენტ რიცხვს დავუმატოთ ერთი, ხოლო ლუწები გავყოთ ორზე. შედეგად მივიღებთ [2,4,6,6,34,6,16]"
   ]
  },
  {
   "cell_type": "code",
   "execution_count": null,
   "metadata": {},
   "outputs": [],
   "source": [
    "lst = [1,3,12,5,33,12,15]\n",
    "\n",
    "for index, item in enumerate(lst):\n",
    "    if item % 2 == 0:\n",
    "        lst[index] = lst[index]//2\n",
    "    else:\n",
    "        lst[index] = lst[index]+1\n",
    "print(lst)"
   ]
  },
  {
   "cell_type": "markdown",
   "metadata": {},
   "source": [
    "## ამოცანები:"
   ]
  },
  {
   "cell_type": "markdown",
   "metadata": {},
   "source": [
    "### ამოცანა 1: შეიყვანეთ რიცხვი n, და ლისტი, სახელად lst შეავსეთ 0-დან n-მდე კენტი რიცხვებით"
   ]
  },
  {
   "cell_type": "markdown",
   "metadata": {},
   "source": [
    "### ამოცანა 2: შეიყვანეთ რიცხვი n, და დაბეჭდეთ 0-დან n-მდე რიცხვების ჯამი(შემდეგ ცადეთ მხოლოდ კენტების, მხოლოდ ლუწების და ორივე ერთდროულად)"
   ]
  },
  {
   "cell_type": "markdown",
   "metadata": {},
   "source": [
    "### ამოცანა 3: გვაქვს ლისტი fruits = ['apple', 'orange', 'pear', 'banana'] , თითოეული ელემენტისთვის დაბეჭდეთ მხოლოდ ბოლო სამის სიმბოლო, მაგალითად: ple,nge,ear,ana"
   ]
  },
  {
   "cell_type": "markdown",
   "metadata": {},
   "source": [
    "### ამოცანა 4: გვაქვს ლისტი numbers = [1, 2, 3, 4, '5', 6, '7'], როგორც ვხედავთ, ზოგიერთი ელემენტი არის int ტიპის, ზოგიერთი სტრინგი, დაწერეთ კოდი, რომელიც numbers ლისტის string ტიპის ელემენტებს გადაიყვანს int ტიპში. print(numbers) ფუნქციამ უნდა დაგიბეჭდოთ   [1, 2, 3, 4, 5, 6, 7]"
   ]
  },
  {
   "cell_type": "markdown",
   "metadata": {},
   "source": [
    "### ამოცანა 5: input-ით შეიყვანეთ string-ი და ყოველი პატარა a ჩაანაცვლეთ A-თი."
   ]
  },
  {
   "cell_type": "markdown",
   "metadata": {},
   "source": [
    "### ამოცანა 6: input-ით შეიყვანეთ რაიმე სტრინგი და .reverse ფუნქციის გარეშე, ცადეთ დაბეჭდოთ შებრუნებით. მაგალითად giorgi - igroig"
   ]
  },
  {
   "cell_type": "markdown",
   "metadata": {},
   "source": [
    "### ამოცანა 7: შეიყვანეთ რიცხვი და თუ ეს რიცხვი არის მარტივი რიცხვი, ანუ იყოფა მხოლოდ 1-სა და თავის თავზე, დაბეჭდეთ სიტყვა 'მარტივი' თუ არა და 'შედგენილი'"
   ]
  },
  {
   "cell_type": "markdown",
   "metadata": {},
   "source": [
    "### ამოცანა 7*: შეიყვანეთ რიცხვი და დაბეჭდეთ 0-დან თქვენ შეყვანილ რიცხვამდე ყველა მარტივი რიცხვი"
   ]
  },
  {
   "cell_type": "markdown",
   "metadata": {},
   "source": [
    "###  ამოცანა 8: შეიყვანეთ რიცხვი და დაბეჭდეთ თქვენი რიცხვიდან 0-მდე რევერსულად, მაგალითად, თუ შეიყვანთ 3-ს დაბეჭდეთ 3,2,1,0"
   ]
  },
  {
   "cell_type": "markdown",
   "metadata": {},
   "source": [
    "### ამოცანა 9: გაქვთ dictionary = {'maker':'toyota','model':'camry',\"year\":\"2010\"} გააკეთეთ ლისტი, რომელიც შეიცავს მხოლოდ value-ებს. .values() ფუნქციის გამოყენების გარეშე. ანუ თქვენს ლისტში უნდა იყოს ['toyota','camry','2010']"
   ]
  },
  {
   "cell_type": "markdown",
   "metadata": {},
   "source": [
    "### ამოცანა 10: დაწერეთ ფუნქცია, რომელიც შეგაყვანინებთ რიცხვებს, იქამდე სანამ არ შეიყვანთ -999-ს, ყველა თქვენი შეყვანილი რიცხვი შეინახეთ ლისტში და დაბეჭდეთ. მაგალითად, თუ შეიყვანთ 0, 12, -999 უნდა დაგიბეჭდოთ [0,12]"
   ]
  },
  {
   "cell_type": "markdown",
   "metadata": {},
   "source": [
    "### ამოცანა 11: შეიყვანეთ 2 რიცხვი, n და k,  თუ k არის n-ის რომელიმე ხარისხში აყვანილი რიცხვი, მაშინ დაბეჭდეთ True, თუ არა და False. მაგალითად თუ შეიყვანთ 2 და 8-ს, დაბეჭდეთ True, რადგან 2**3 არის 8, ხოლო თუ შეიყვანთ 2, 14 მაშინ False"
   ]
  },
  {
   "cell_type": "code",
   "execution_count": null,
   "metadata": {},
   "outputs": [],
   "source": []
  }
 ],
 "metadata": {
  "kernelspec": {
   "display_name": "Python 3",
   "language": "python",
   "name": "python3"
  },
  "language_info": {
   "codemirror_mode": {
    "name": "ipython",
    "version": 3
   },
   "file_extension": ".py",
   "mimetype": "text/x-python",
   "name": "python",
   "nbconvert_exporter": "python",
   "pygments_lexer": "ipython3",
   "version": "3.7.6"
  }
 },
 "nbformat": 4,
 "nbformat_minor": 4
}
