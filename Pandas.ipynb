{
 "cells": [
  {
   "cell_type": "markdown",
   "metadata": {},
   "source": [
    "# როგორ დავაინსტალიროთ Pandas"
   ]
  },
  {
   "cell_type": "code",
   "execution_count": null,
   "metadata": {
    "scrolled": true
   },
   "outputs": [],
   "source": [
    "!pip install pandas"
   ]
  },
  {
   "cell_type": "markdown",
   "metadata": {},
   "source": [
    "# Pandas-ს და სხვა საჭირო ბიბლიოთეკების შემოტანა"
   ]
  },
  {
   "cell_type": "code",
   "execution_count": null,
   "metadata": {},
   "outputs": [],
   "source": [
    "import pandas as pd"
   ]
  },
  {
   "cell_type": "markdown",
   "metadata": {},
   "source": [
    "# სხვადასხვა ტიპის ფაილის წაკითხვა"
   ]
  },
  {
   "cell_type": "code",
   "execution_count": null,
   "metadata": {},
   "outputs": [],
   "source": [
    "train_df = pd.read_csv('https://docs.google.com/spreadsheets/d/e/2PACX-1vQ-DtJ_iRrgZAA-PU8-ecV6yCGJCrf4nbOcQqtPUKALs7PGm111QKb5el8bxsXeZ370zgDKHeevCcF8/pub?gid=1654560463&single=true&output=csv')"
   ]
  },
  {
   "cell_type": "code",
   "execution_count": null,
   "metadata": {},
   "outputs": [],
   "source": [
    "train_df.head()"
   ]
  },
  {
   "cell_type": "markdown",
   "metadata": {},
   "source": [
    "# შემოტანილი ცხრილის დათვალიერება"
   ]
  },
  {
   "cell_type": "code",
   "execution_count": null,
   "metadata": {},
   "outputs": [],
   "source": [
    "#სვეტების სახელების სია\n",
    "train_df.columns"
   ]
  },
  {
   "cell_type": "code",
   "execution_count": null,
   "metadata": {},
   "outputs": [],
   "source": [
    "#ცხრილის განზომილებების ნახვა\n",
    "train_df.shape"
   ]
  },
  {
   "cell_type": "code",
   "execution_count": null,
   "metadata": {},
   "outputs": [],
   "source": [
    "#პირველი მნიშვნელობა გვიჩვენებს რამდენი ჩანაწერი გვაქვს ცხრილში, ხოლო მეორე მნიშვნელობა აჩვენებს სვეტების რაოდენობას\n",
    "print(\"rows:\", train_df.shape[0])\n",
    "print(\"columns:\", train_df.shape[1])"
   ]
  },
  {
   "cell_type": "code",
   "execution_count": null,
   "metadata": {},
   "outputs": [],
   "source": [
    "#რა ტიპის სვეტები გვაქვს ცხრილში\n",
    "train_df.info()"
   ]
  },
  {
   "cell_type": "code",
   "execution_count": null,
   "metadata": {},
   "outputs": [],
   "source": [
    "#ცხრილის სტატისტიკური მნიშვნელობების დათვალიერება რიცხვით ცვლადებზე\n",
    "train_df.describe()"
   ]
  },
  {
   "cell_type": "markdown",
   "metadata": {},
   "source": [
    "# მონაცემების სელექცია და ფილტრაცია"
   ]
  },
  {
   "cell_type": "markdown",
   "metadata": {},
   "source": [
    "## სვეტების მიხედვით სელექცია"
   ]
  },
  {
   "cell_type": "code",
   "execution_count": null,
   "metadata": {},
   "outputs": [],
   "source": [
    "columns_to_select = ['Name','Age']"
   ]
  },
  {
   "cell_type": "code",
   "execution_count": null,
   "metadata": {},
   "outputs": [],
   "source": [
    "train_df[columns_to_select]"
   ]
  },
  {
   "cell_type": "code",
   "execution_count": null,
   "metadata": {},
   "outputs": [],
   "source": [
    "train_df[['Name','Age']]"
   ]
  },
  {
   "cell_type": "markdown",
   "metadata": {},
   "source": [
    "## ჩანაწერების მიხედვით ამორჩევა"
   ]
  },
  {
   "cell_type": "code",
   "execution_count": null,
   "metadata": {},
   "outputs": [],
   "source": [
    "start = 2 \n",
    "end = 5"
   ]
  },
  {
   "cell_type": "code",
   "execution_count": null,
   "metadata": {},
   "outputs": [],
   "source": [
    "#საწყისი და საბოლოო ინდექსით(საიდან-სადამდე)\n",
    "train_df.iloc[start:end]"
   ]
  },
  {
   "cell_type": "code",
   "execution_count": null,
   "metadata": {},
   "outputs": [],
   "source": [
    "# მხოლოდ საწყისი ინდექსით(საიდან-ბოლო ჩანაწერამდე)\n",
    "train_df.iloc[start:]"
   ]
  },
  {
   "cell_type": "markdown",
   "metadata": {},
   "source": [
    "# sadadsa\n"
   ]
  },
  {
   "cell_type": "code",
   "execution_count": null,
   "metadata": {},
   "outputs": [],
   "source": [
    "#მხოლოდ საბოლოო ინდექსით(პირველი ჩანაწერიდან - სადამდე)\n",
    "train_df[:end]"
   ]
  },
  {
   "cell_type": "markdown",
   "metadata": {},
   "source": [
    "## სვეტებით და ჩანაწერებით ამორჩევა ერთდროულად"
   ]
  },
  {
   "cell_type": "code",
   "execution_count": null,
   "metadata": {},
   "outputs": [],
   "source": [
    "train_df.iloc[start:end, : ]"
   ]
  },
  {
   "cell_type": "code",
   "execution_count": null,
   "metadata": {},
   "outputs": [],
   "source": [
    "train_df.iloc[start:end, 0:4 ]"
   ]
  },
  {
   "cell_type": "code",
   "execution_count": null,
   "metadata": {},
   "outputs": [],
   "source": [
    "train_df.iloc[start:end, 0: ]"
   ]
  },
  {
   "cell_type": "code",
   "execution_count": null,
   "metadata": {},
   "outputs": [],
   "source": [
    "train_df.iloc[start:end, :4 ]"
   ]
  },
  {
   "cell_type": "markdown",
   "metadata": {},
   "source": [
    "## პირობით ფილტრაცია"
   ]
  },
  {
   "cell_type": "code",
   "execution_count": null,
   "metadata": {},
   "outputs": [],
   "source": [
    "#შევქმნათ ერთი პირობა\n",
    "(train_df.Age>44)\n",
    "#ან\n",
    "(train_df['Age']>44)"
   ]
  },
  {
   "cell_type": "markdown",
   "metadata": {},
   "source": [
    "### train_df['Age']>44 ან train_df.Age>44 პირობა, აბრუნებს True და False ების სერიას, ჩვენ შეგვიძლია ეს სერია გამოვიყენოთ როგორც ფილტრი და ამოვიღოთ მხოლოდ ის ჩანაწერები სადაც პირობა სრულდება, ანუ სერიაში True მნიშვნელობა გვაქვს"
   ]
  },
  {
   "cell_type": "code",
   "execution_count": null,
   "metadata": {},
   "outputs": [],
   "source": [
    "train_df[(train_df[\"Age\"] > 44)]"
   ]
  },
  {
   "cell_type": "code",
   "execution_count": null,
   "metadata": {},
   "outputs": [],
   "source": [
    "#ჩვენ შეგვიძლია შევინახოთ ჩვენი პირობა ცვლადში და შემდეგ გამოვიყენოთ\n",
    "condition = (train_df.Age>44)"
   ]
  },
  {
   "cell_type": "code",
   "execution_count": null,
   "metadata": {},
   "outputs": [],
   "source": [
    "train_df[condition]"
   ]
  },
  {
   "cell_type": "markdown",
   "metadata": {},
   "source": [
    "###  '~' ასრულებს ლოგიკური უარყოფის ფუნქციას, მაგალითად: \n",
    "### თუ ჩვენი პირობა არის train_df.Age > 44, \n",
    "### ~train_df.Age > 44 იქნება იგივე რაც train_df.Age <= 44"
   ]
  },
  {
   "cell_type": "code",
   "execution_count": null,
   "metadata": {},
   "outputs": [],
   "source": [
    "train_df[~condition]"
   ]
  },
  {
   "cell_type": "code",
   "execution_count": null,
   "metadata": {},
   "outputs": [],
   "source": [
    "# პირობა ჩვენ შეგვიძლია შევქმნათ რამდენიმე ქვეპირობისგან, მაგალითად გვჭირდება ამოვიღოთ მხოლოდ 44 წელს ზემოთ მამაკაცები\n",
    "condition_and = (train_df.Age>44) & (train_df.Sex=='male')\n",
    "# შესაძლებელია გვჭირდებოდეს ან პირობით გადაბმა, მაგალითად მგზავრები რომლებიც არიან 44 წელს ზემოთ ან არიან მამაკაცები\n",
    "condition_or = (train_df.Age>44) | (train_df.Sex=='male')"
   ]
  },
  {
   "cell_type": "code",
   "execution_count": null,
   "metadata": {},
   "outputs": [],
   "source": [
    "train_df[condition_and]"
   ]
  },
  {
   "cell_type": "code",
   "execution_count": null,
   "metadata": {},
   "outputs": [],
   "source": [
    "train_df[condition_or]"
   ]
  },
  {
   "cell_type": "markdown",
   "metadata": {},
   "source": [
    "## ფილტრაცია და კონკრეტული სვეტ(ებ)ის ამორჩევა"
   ]
  },
  {
   "cell_type": "code",
   "execution_count": null,
   "metadata": {},
   "outputs": [],
   "source": []
  },
  {
   "cell_type": "markdown",
   "metadata": {},
   "source": [
    "# დაჯგუფება"
   ]
  },
  {
   "cell_type": "markdown",
   "metadata": {},
   "source": [
    "## თუ დავაკვირდებით, ტიტანიკზე არსებობდა 3 კლასის ბილეთი, პირველი, მეორე და მესამე. ვნახოთ მათი განაწილება"
   ]
  },
  {
   "cell_type": "code",
   "execution_count": null,
   "metadata": {},
   "outputs": [],
   "source": [
    "train_df.describe()"
   ]
  },
  {
   "cell_type": "code",
   "execution_count": null,
   "metadata": {},
   "outputs": [],
   "source": []
  },
  {
   "cell_type": "code",
   "execution_count": null,
   "metadata": {
    "scrolled": true
   },
   "outputs": [],
   "source": [
    "train_df.groupby('Pclass')['Pclass'].count()"
   ]
  },
  {
   "cell_type": "code",
   "execution_count": null,
   "metadata": {},
   "outputs": [],
   "source": [
    "train_df.Pclass.value_counts()"
   ]
  },
  {
   "cell_type": "markdown",
   "metadata": {},
   "source": [
    "## სულ გაყიდულა 216 პირველი კლასის ბილეთი, 184 მეორე და 491 მესამე კლასის ბილეთი"
   ]
  },
  {
   "cell_type": "markdown",
   "metadata": {},
   "source": [
    "## დავაჯგუფოთ კლასის მიხედვით და ვნახოთ რომელი კლასის მგზავრებიდან რამდენი პროცენტი გადარჩა"
   ]
  },
  {
   "cell_type": "code",
   "execution_count": null,
   "metadata": {},
   "outputs": [],
   "source": [
    "train_df.groupby(['Pclass'])['Survived'].mean()"
   ]
  },
  {
   "cell_type": "markdown",
   "metadata": {},
   "source": [
    "## როგორც ვხედავთ, პირველი კლასიდან 63%მდე გადარჩა, მეორე კლასის მგზავრების 47% ხოლო მესამედან ყველაზე ცოტა, 24%"
   ]
  },
  {
   "cell_type": "markdown",
   "metadata": {},
   "source": [
    "## ახლა გავარკვიოთ რომელ სქესის ადამიანებიდან გადარჩნენ უფრო დიდი პროცენტი"
   ]
  },
  {
   "cell_type": "code",
   "execution_count": null,
   "metadata": {},
   "outputs": [],
   "source": [
    "train_df.groupby(['Sex'])['Survived'].mean()"
   ]
  },
  {
   "cell_type": "markdown",
   "metadata": {},
   "source": [
    "## გადარჩენილა ქალების 74% ხოლო მამაკაცებიდან დაახლოებით 19%"
   ]
  },
  {
   "cell_type": "markdown",
   "metadata": {},
   "source": [
    "## ახლა კი გავაერთიანოთ სქესი, ბილეთის კლასი და ორ ჭრილში შევხედოთ ერთდროულად"
   ]
  },
  {
   "cell_type": "code",
   "execution_count": null,
   "metadata": {},
   "outputs": [],
   "source": [
    "train_df.groupby(['Pclass','Sex'])['Survived'].mean()"
   ]
  },
  {
   "cell_type": "code",
   "execution_count": null,
   "metadata": {},
   "outputs": [],
   "source": [
    "train_df.groupby(['Sex','Pclass'])['Survived'].mean()"
   ]
  },
  {
   "cell_type": "markdown",
   "metadata": {},
   "source": [
    "# მანიპულაციები სვეტებზე\n"
   ]
  },
  {
   "cell_type": "markdown",
   "metadata": {},
   "source": [
    "## შევხედოთ ასაკის ცვლადის განაწილებას"
   ]
  },
  {
   "cell_type": "code",
   "execution_count": null,
   "metadata": {},
   "outputs": [],
   "source": [
    "train_df.Age.describe()"
   ]
  },
  {
   "cell_type": "markdown",
   "metadata": {},
   "source": []
  },
  {
   "cell_type": "markdown",
   "metadata": {},
   "source": [
    "## მოდით ვნახოთ გადარჩენის პროცენტული რაოდენობა ასაკობრივ ჭრილში"
   ]
  },
  {
   "cell_type": "code",
   "execution_count": null,
   "metadata": {},
   "outputs": [],
   "source": [
    "train_df.groupby(['Age'])['Survived'].mean()"
   ]
  },
  {
   "cell_type": "markdown",
   "metadata": {},
   "source": [
    "## როგორც ვხედავთ, საკმაოდ გაუგებარი და რთულად აღსაქმელი ცხრილი მივიღეთ, სქესის, ან მგზავრობის ბილეთისგან განსხვავებით, ასაკი მერყეობს 0.42-დან 80მდე, რაც საკმაოდ ბევრია. შევქმნათ ახალი ცვლადი, დავყოთ 20 წლიან ინტერვალებად და ისე შევხედოთ."
   ]
  },
  {
   "cell_type": "code",
   "execution_count": null,
   "metadata": {},
   "outputs": [],
   "source": [
    "train_df.Age.value_counts()"
   ]
  },
  {
   "cell_type": "code",
   "execution_count": null,
   "metadata": {},
   "outputs": [],
   "source": [
    "cut_ages = ['-18', \"18-30\", '31-50', '50+',]\n",
    "cut_bins = [0, 18, 30, 50,100]\n",
    "train_df['Age_bins'] = pd.cut(train_df['Age'], bins=cut_bins, labels = cut_ages)\n"
   ]
  },
  {
   "cell_type": "code",
   "execution_count": null,
   "metadata": {},
   "outputs": [],
   "source": [
    "train_df[['Age','Age_bins']]"
   ]
  },
  {
   "cell_type": "code",
   "execution_count": null,
   "metadata": {},
   "outputs": [],
   "source": [
    "train_df.Age_bins.describe()"
   ]
  },
  {
   "cell_type": "code",
   "execution_count": null,
   "metadata": {},
   "outputs": [],
   "source": [
    "train_df.groupby(['Age_bins'])['Survived'].mean()"
   ]
  },
  {
   "cell_type": "code",
   "execution_count": null,
   "metadata": {},
   "outputs": [],
   "source": [
    "train_df.groupby(['Age_bins','Sex'])['Survived'].mean()"
   ]
  },
  {
   "cell_type": "code",
   "execution_count": null,
   "metadata": {},
   "outputs": [],
   "source": [
    "train_df.groupby(['Pclass','Sex','Age_bins'])['Survived'].agg(['count','mean'])"
   ]
  },
  {
   "cell_type": "markdown",
   "metadata": {},
   "source": [
    "### ვიცით რომ ტიტანიკზე 891 მგზავრი იყო, ხოლო აქ 714-ს გვიჩვენებს, რაც ნიშნავს რომ 177 მგზავრის ასაკი არაა შევსებული."
   ]
  },
  {
   "cell_type": "markdown",
   "metadata": {},
   "source": [
    "## ჩვენ დავუშვით ერთი შეცდომა, კერძოდ, აქაც არ ვითვალისწინებთ იმ ადამიანებს ვისი ასაკიც არ ვიცით"
   ]
  },
  {
   "cell_type": "markdown",
   "metadata": {},
   "source": [
    "### ვნახოთ ჩანაწერები სადაც არ ვიცით ასაკი"
   ]
  },
  {
   "cell_type": "code",
   "execution_count": null,
   "metadata": {},
   "outputs": [],
   "source": [
    "condition = train_df.Age.isna()"
   ]
  },
  {
   "cell_type": "code",
   "execution_count": null,
   "metadata": {},
   "outputs": [],
   "source": [
    "train_df[condition]"
   ]
  },
  {
   "cell_type": "code",
   "execution_count": null,
   "metadata": {},
   "outputs": [],
   "source": [
    "train_df.Age_bins.dtype"
   ]
  },
  {
   "cell_type": "code",
   "execution_count": null,
   "metadata": {},
   "outputs": [],
   "source": [
    "train_df.Age_bins = train_df.Age_bins.cat.add_categories('Unknown') #დავამატოთ ახალი კატეგორია"
   ]
  },
  {
   "cell_type": "code",
   "execution_count": null,
   "metadata": {},
   "outputs": [],
   "source": [
    "train_df.Age_bins.dtype"
   ]
  },
  {
   "cell_type": "markdown",
   "metadata": {},
   "source": [
    "### შევავსოთ ცარიელი ასაკის ინტერვალები unknown კატეგორიით"
   ]
  },
  {
   "cell_type": "code",
   "execution_count": null,
   "metadata": {},
   "outputs": [],
   "source": [
    "train_df.Age_bins.fillna('Unknown', inplace = True)"
   ]
  },
  {
   "cell_type": "markdown",
   "metadata": {},
   "source": [
    "### და შევამოწმოთ"
   ]
  },
  {
   "cell_type": "code",
   "execution_count": null,
   "metadata": {},
   "outputs": [],
   "source": [
    "train_df[condition]"
   ]
  },
  {
   "cell_type": "code",
   "execution_count": null,
   "metadata": {},
   "outputs": [],
   "source": [
    "train_df.groupby(['Pclass','Sex','Age_bins'])['Survived'].agg(['count','mean'])"
   ]
  },
  {
   "cell_type": "markdown",
   "metadata": {},
   "source": [
    "## განვიხილოთ ცარიელი ცვლადების შევსების სხვადასხვა მეთოდები, ასაკის ცვლადის მაგალითზე"
   ]
  },
  {
   "cell_type": "code",
   "execution_count": null,
   "metadata": {},
   "outputs": [],
   "source": [
    "condition = train_df.Age.isna()\n",
    "train_df[condition]"
   ]
  },
  {
   "cell_type": "code",
   "execution_count": null,
   "metadata": {},
   "outputs": [],
   "source": [
    "print('ასაკის საშუალო',train_df.Age.describe()['mean'])\n",
    "print('ასაკის მედიანა',train_df.Age.describe()['50%'])"
   ]
  },
  {
   "cell_type": "code",
   "execution_count": null,
   "metadata": {},
   "outputs": [],
   "source": [
    "train_df.Age.fillna(train_df.Age.mean()).describe() # ასე შეგვიძლია ცარიელი ასაკები შევავსოთ ასაკის საშუალო მნიშვნელობით"
   ]
  },
  {
   "cell_type": "code",
   "execution_count": null,
   "metadata": {},
   "outputs": [],
   "source": [
    "train_df.Age.fillna(train_df.Age.median()).describe() # ან მედიანით, თუ დავაკვირდებით მედიანით შეცვლამ ჩვენს შემთხვევაში ჩამოწია საშუალო ასაკი"
   ]
  },
  {
   "cell_type": "code",
   "execution_count": null,
   "metadata": {},
   "outputs": [],
   "source": [
    "ქალების შევავსოთ ქალების საშუალო ასაკით და კაცების კაცების საშუალოთი."
   ]
  },
  {
   "cell_type": "code",
   "execution_count": null,
   "metadata": {},
   "outputs": [],
   "source": [
    "train_df.Age.fillna(train_df.groupby('Sex')['Age'].transform('mean')).describe()"
   ]
  },
  {
   "cell_type": "markdown",
   "metadata": {},
   "source": [
    "# merge"
   ]
  },
  {
   "cell_type": "code",
   "execution_count": null,
   "metadata": {},
   "outputs": [],
   "source": [
    "dict1 = {'Manager': ['Man1', 'Man2', 'Man3', 'Man4'],\n",
    "                    'Age': [18, 28, 38, 35]}"
   ]
  },
  {
   "cell_type": "code",
   "execution_count": null,
   "metadata": {},
   "outputs": [],
   "source": [
    "df1 = pd.DataFrame(dict1)\n",
    "df1"
   ]
  },
  {
   "cell_type": "code",
   "execution_count": null,
   "metadata": {},
   "outputs": [],
   "source": [
    "dict2 = {'Manager': ['Man1', 'Man2', 'Man3', 'Man4'],\n",
    "                    'Salary': [500, 600, 700, 8000]}"
   ]
  },
  {
   "cell_type": "code",
   "execution_count": null,
   "metadata": {},
   "outputs": [],
   "source": [
    "df2 = pd.DataFrame(dict2)\n",
    "df2"
   ]
  },
  {
   "cell_type": "code",
   "execution_count": null,
   "metadata": {},
   "outputs": [],
   "source": [
    "df1.merge(df2, left_on='Manager', right_on='Manager')"
   ]
  },
  {
   "cell_type": "markdown",
   "metadata": {},
   "source": [
    "# სავარჯიშოები"
   ]
  },
  {
   "cell_type": "markdown",
   "metadata": {},
   "source": [
    "## გამოიყენეთ, უკვე ლექციისას გამოყენებული დატაფრეიმი train_df, დაუმატეთ ერთი ახალი სვეტი, missing_count, სადაც თითოეულ ხაზზე იქნება ჩაწერილი თუ რამდენი missing value-ა თითოეულ სტრიქონში"
   ]
  },
  {
   "cell_type": "markdown",
   "metadata": {},
   "source": [
    "## Name სვეტში ჯერ წერია გვარი, შემდეგ სახელი, გააკეთეთ ახალი სვეტი Lastname, სადაც ჩაწერთ გვარებს. მაგალითად თუ წერია Moran, Mr. James\t, Lastname ველში ჩაიწეროს Moran"
   ]
  },
  {
   "cell_type": "markdown",
   "metadata": {},
   "source": [
    "## გვაქვს  dict1 = {'Manager': ['Man1', 'Man2', 'Man3', 'Man4'], 'Age': [18, 28, 38, 35]} , გააკეთეთ ახალი სვეტი, სადაც იქნება ჩაწერილი 1 თუ ასაკი კენტია, ხოლო False თუ ასაკი ლუწია."
   ]
  },
  {
   "cell_type": "markdown",
   "metadata": {},
   "source": [
    "## გამოიყენეთ ლექციისას გამოყენებული დატაფრეიმი, მისგან შექმენით ახალი დატაფრეიმი, სადაც ჩაიწერება მხოლოდ ის სტრიქონები რომელთა ინდექსიც ლუწია."
   ]
  },
  {
   "cell_type": "markdown",
   "metadata": {},
   "source": [
    "## გაქვთ dict1 = {'Manager': ['Man1', 'Man2', 'Man3', 'Man4'], 'Age': [18, 28, 38, 35]} და  dict2 = {'Manager': ['Man1', 'Man2', 'Man3'], 'Salary': [500, 600, 700]} , გადააბით merge ფუნქციით ისე, რომ Man4-ის Salary იყოს 0"
   ]
  },
  {
   "cell_type": "code",
   "execution_count": null,
   "metadata": {},
   "outputs": [],
   "source": []
  },
  {
   "cell_type": "markdown",
   "metadata": {},
   "source": [
    " https://pandas.pydata.org/docs/getting_started/index.html#getting-started"
   ]
  }
 ],
 "metadata": {
  "kernelspec": {
   "display_name": "Python 3",
   "language": "python",
   "name": "python3"
  },
  "language_info": {
   "codemirror_mode": {
    "name": "ipython",
    "version": 3
   },
   "file_extension": ".py",
   "mimetype": "text/x-python",
   "name": "python",
   "nbconvert_exporter": "python",
   "pygments_lexer": "ipython3",
   "version": "3.7.6"
  }
 },
 "nbformat": 4,
 "nbformat_minor": 4
}
