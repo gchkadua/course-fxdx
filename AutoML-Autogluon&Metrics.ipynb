{
 "cells": [
  {
   "cell_type": "code",
   "execution_count": 18,
   "metadata": {},
   "outputs": [
    {
     "ename": "ModuleNotFoundError",
     "evalue": "No module named 'autogluon'",
     "output_type": "error",
     "traceback": [
      "\u001b[1;31m---------------------------------------------------------------------------\u001b[0m",
      "\u001b[1;31mModuleNotFoundError\u001b[0m                       Traceback (most recent call last)",
      "\u001b[1;32m<ipython-input-18-eabd8d227903>\u001b[0m in \u001b[0;36m<module>\u001b[1;34m\u001b[0m\n\u001b[0;32m      2\u001b[0m \u001b[1;32mimport\u001b[0m \u001b[0mnumpy\u001b[0m \u001b[1;32mas\u001b[0m \u001b[0mnp\u001b[0m\u001b[1;33m\u001b[0m\u001b[1;33m\u001b[0m\u001b[0m\n\u001b[0;32m      3\u001b[0m \u001b[1;32mimport\u001b[0m \u001b[0mpandas\u001b[0m \u001b[1;32mas\u001b[0m \u001b[0mpd\u001b[0m\u001b[1;33m\u001b[0m\u001b[1;33m\u001b[0m\u001b[0m\n\u001b[1;32m----> 4\u001b[1;33m \u001b[1;32mfrom\u001b[0m \u001b[0mautogluon\u001b[0m\u001b[1;33m.\u001b[0m\u001b[0mtabular\u001b[0m \u001b[1;32mimport\u001b[0m \u001b[0mTabularDataset\u001b[0m\u001b[1;33m,\u001b[0m \u001b[0mTabularPredictor\u001b[0m\u001b[1;33m\u001b[0m\u001b[1;33m\u001b[0m\u001b[0m\n\u001b[0m\u001b[0;32m      5\u001b[0m \u001b[1;32mfrom\u001b[0m \u001b[0msklearn\u001b[0m\u001b[1;33m.\u001b[0m\u001b[0mmodel_selection\u001b[0m \u001b[1;32mimport\u001b[0m \u001b[0mtrain_test_split\u001b[0m\u001b[1;33m\u001b[0m\u001b[1;33m\u001b[0m\u001b[0m\n",
      "\u001b[1;31mModuleNotFoundError\u001b[0m: No module named 'autogluon'"
     ]
    }
   ],
   "source": [
    "import os\n",
    "import numpy as np\n",
    "import pandas as pd\n",
    "from autogluon.tabular import TabularDataset, TabularPredictor\n",
    "from sklearn.model_selection import train_test_split"
   ]
  },
  {
   "cell_type": "code",
   "execution_count": null,
   "metadata": {},
   "outputs": [],
   "source": [
    "#!pip install autogluon"
   ]
  },
  {
   "cell_type": "code",
   "execution_count": null,
   "metadata": {},
   "outputs": [],
   "source": [
    "from google.colab import files\n",
    "uploaded = files.upload()"
   ]
  },
  {
   "cell_type": "code",
   "execution_count": null,
   "metadata": {},
   "outputs": [],
   "source": [
    "def read_data(path=None, data_name=None):\n",
    "    folder_name = 'autogluon'\n",
    " \n",
    "    if path is None:\n",
    "        return None, None\n",
    "    \n",
    "    df = pd.read_csv(path)\n",
    "    \n",
    "    if data_name is None:\n",
    "        basename = os.path.basename(path)\n",
    "        data_name = basename[:len(basename) - 4]\n",
    "    elif data_name.__contains__('.csv'):\n",
    "        data_name = data_name[:len(data_name) - 4]\n",
    "        \n",
    "    X_train, X_test = train_test_split(df, test_size=0.25)\n",
    "    \n",
    "    if not os.path.exists(f'data/{folder_name}'):\n",
    "        os.makedirs(f'data/{folder_name}')\n",
    "\n",
    "    X_train_path = f'data/{folder_name}/{data_name}_train.csv'\n",
    "    X_test_path = f'data/{folder_name}/{data_name}_test.csv'\n",
    "    \n",
    "    X_train.to_csv(X_train_path)\n",
    "    X_test.to_csv(X_test_path)    \n",
    "    \n",
    "    return X_train_path, X_test_path"
   ]
  },
  {
   "cell_type": "code",
   "execution_count": null,
   "metadata": {},
   "outputs": [],
   "source": [
    "data_name = 'bank-marketing.csv'\n",
    "path = 'bank-marketing.csv'\n",
    "y = 'Class'\n",
    "\n",
    "X_train_path, X_test_path = read_data(path=path, data_name=data_name)"
   ]
  },
  {
   "cell_type": "code",
   "execution_count": null,
   "metadata": {},
   "outputs": [],
   "source": [
    "train_data = TabularDataset(X_train_path)\n",
    "test_data = TabularDataset(X_test_path)"
   ]
  },
  {
   "cell_type": "code",
   "execution_count": null,
   "metadata": {},
   "outputs": [],
   "source": [
    "predictor = TabularPredictor(label=y, eval_metric='roc_auc').fit(train_data, time_limit=1560)"
   ]
  },
  {
   "cell_type": "code",
   "execution_count": null,
   "metadata": {},
   "outputs": [],
   "source": [
    "test_acc = predictor.evaluate(test_data)"
   ]
  },
  {
   "cell_type": "code",
   "execution_count": null,
   "metadata": {},
   "outputs": [],
   "source": [
    "predictor.leaderboard(test_data, silent=True,extra_metrics=\n",
    "                      ['accuracy', 'balanced_accuracy', 'log_loss','mcc', 'recall_weighted', 'precision_weighted'])"
   ]
  },
  {
   "cell_type": "code",
   "execution_count": null,
   "metadata": {},
   "outputs": [],
   "source": [
    "predictor.get_model_best()"
   ]
  },
  {
   "cell_type": "code",
   "execution_count": null,
   "metadata": {},
   "outputs": [],
   "source": []
  },
  {
   "cell_type": "code",
   "execution_count": null,
   "metadata": {},
   "outputs": [],
   "source": []
  },
  {
   "cell_type": "code",
   "execution_count": null,
   "metadata": {},
   "outputs": [],
   "source": [
    "data_name = 'Moneyball.csv'\n",
    "path = 'data/Moneyball.csv'\n",
    "y = 'RS'\n",
    "\n",
    "X_train_path, X_test_path = read_data(path=path, data_name=data_name)"
   ]
  },
  {
   "cell_type": "code",
   "execution_count": null,
   "metadata": {},
   "outputs": [],
   "source": [
    "X_train_path, X_test_path"
   ]
  },
  {
   "cell_type": "code",
   "execution_count": null,
   "metadata": {},
   "outputs": [],
   "source": [
    "train_data = TabularDataset(X_train_path)\n",
    "test_data = TabularDataset(X_test_path)"
   ]
  },
  {
   "cell_type": "code",
   "execution_count": null,
   "metadata": {},
   "outputs": [],
   "source": [
    "predictor = TabularPredictor(label=y, eval_metric='r2').fit(train_data, time_limit=3600)"
   ]
  },
  {
   "cell_type": "code",
   "execution_count": null,
   "metadata": {},
   "outputs": [],
   "source": [
    "test_acc = predictor.evaluate(test_data)"
   ]
  },
  {
   "cell_type": "code",
   "execution_count": null,
   "metadata": {},
   "outputs": [],
   "source": [
    "predictor.get_model_best()"
   ]
  },
  {
   "cell_type": "code",
   "execution_count": null,
   "metadata": {},
   "outputs": [],
   "source": [
    "predictor.leaderboard()"
   ]
  },
  {
   "cell_type": "code",
   "execution_count": null,
   "metadata": {},
   "outputs": [],
   "source": []
  },
  {
   "cell_type": "code",
   "execution_count": null,
   "metadata": {},
   "outputs": [],
   "source": []
  },
  {
   "cell_type": "code",
   "execution_count": 26,
   "metadata": {},
   "outputs": [],
   "source": [
    "import os\n",
    "import numpy as np\n",
    "import pandas as pd\n",
    "import h2o\n",
    "from h2o.automl import H2OAutoML\n",
    "from sklearn.model_selection import train_test_split"
   ]
  },
  {
   "cell_type": "code",
   "execution_count": 27,
   "metadata": {},
   "outputs": [],
   "source": [
    "#!pip install h2o"
   ]
  },
  {
   "cell_type": "code",
   "execution_count": 32,
   "metadata": {},
   "outputs": [],
   "source": [
    "h2o.init(max_mem_size=\"4G\", nthreads=2)"
   ]
  },
  {
   "cell_type": "code",
   "execution_count": null,
   "metadata": {},
   "outputs": [],
   "source": [
    "def read_data(path=None, data_name=None):\n",
    "    folder_name = 'h2o'\n",
    " \n",
    "    if path is None:\n",
    "        return None, None\n",
    "    \n",
    "    df = pd.read_csv(path)\n",
    "    \n",
    "    if data_name is None:\n",
    "        basename = os.path.basename(path)\n",
    "        data_name = basename[:len(basename) - 4]\n",
    "    elif data_name.__contains__('.csv'):\n",
    "        data_name = data_name[:len(data_name) - 4]\n",
    "        \n",
    "    X_train, X_test = train_test_split(df, test_size=0.25)\n",
    "    \n",
    "    if not os.path.exists(f'data/{folder_name}'):\n",
    "        os.makedirs(f'data/{folder_name}')\n",
    "\n",
    "    X_train_path = f'data/{folder_name}/{data_name}_train.csv'\n",
    "    X_test_path = f'data/{folder_name}/{data_name}_test.csv'\n",
    "    \n",
    "    X_train.to_csv(X_train_path)\n",
    "    X_test.to_csv(X_test_path)    \n",
    "    \n",
    "    return X_train_path, X_test_path"
   ]
  },
  {
   "cell_type": "code",
   "execution_count": null,
   "metadata": {},
   "outputs": [],
   "source": []
  },
  {
   "cell_type": "code",
   "execution_count": null,
   "metadata": {},
   "outputs": [],
   "source": [
    "data_name = 'Moneyball.csv'\n",
    "path = 'Moneyball.csv'\n",
    "y = 'RS'\n",
    "stopping_metric = 'AUTO'\n",
    "\n",
    "X_train_path, X_test_path = read_data(path=path, data_name=data_name)\n",
    "\n",
    "X_train = h2o.import_file(X_train_path)\n",
    "X_test = h2o.import_file(X_test_path)\n",
    "\n",
    "x = X_train.columns\n",
    "x.remove(y)"
   ]
  },
  {
   "cell_type": "code",
   "execution_count": null,
   "metadata": {},
   "outputs": [],
   "source": [
    "# Run AutoML for 1 hours\n",
    "h2o_moneyball = H2OAutoML(max_runtime_secs=3600, keep_cross_validation_predictions=True, \n",
    "                          stopping_metric='RMSE', stopping_rounds=3)\n",
    "h2o_moneyball.train(x=x, y=y, training_frame=X_train)"
   ]
  },
  {
   "cell_type": "code",
   "execution_count": null,
   "metadata": {},
   "outputs": [],
   "source": [
    "h2o_moneyball.leader.model_performance(X_test)"
   ]
  },
  {
   "cell_type": "code",
   "execution_count": null,
   "metadata": {},
   "outputs": [],
   "source": []
  },
  {
   "cell_type": "code",
   "execution_count": null,
   "metadata": {},
   "outputs": [],
   "source": []
  },
  {
   "cell_type": "code",
   "execution_count": null,
   "metadata": {},
   "outputs": [],
   "source": [
    "data_name = 'car.csv'\n",
    "path = 'car.csv'\n",
    "y = 'class'\n",
    "stopping_metric = 'AUCPR'\n",
    "\n",
    "X_train_path, X_test_path = read_data(path=path, data_name=data_name)\n",
    "\n",
    "X_train = h2o.import_file(X_train_path)\n",
    "X_test = h2o.import_file(X_test_path)\n",
    "\n",
    "x = X_train.columns\n",
    "x.remove(y)"
   ]
  },
  {
   "cell_type": "code",
   "execution_count": null,
   "metadata": {},
   "outputs": [],
   "source": [
    "# Run AutoML for 1 hours\n",
    "h2o_car = H2OAutoML(max_runtime_secs=1800, keep_cross_validation_predictions=True, \n",
    "                            stopping_metric=stopping_metric, stopping_rounds=3)\n",
    "h2o_car.train(x=x, y=y, training_frame=X_train)"
   ]
  },
  {
   "cell_type": "code",
   "execution_count": null,
   "metadata": {},
   "outputs": [],
   "source": [
    "h2o_car.leader.model_performance(X_test)"
   ]
  }
 ],
 "metadata": {
  "kernelspec": {
   "display_name": "Python 3",
   "language": "python",
   "name": "python3"
  },
  "language_info": {
   "codemirror_mode": {
    "name": "ipython",
    "version": 3
   },
   "file_extension": ".py",
   "mimetype": "text/x-python",
   "name": "python",
   "nbconvert_exporter": "python",
   "pygments_lexer": "ipython3",
   "version": "3.7.6"
  }
 },
 "nbformat": 4,
 "nbformat_minor": 4
}
